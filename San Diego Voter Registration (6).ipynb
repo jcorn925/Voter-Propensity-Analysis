{
 "cells": [
  {
   "cell_type": "code",
   "execution_count": 1,
   "metadata": {},
   "outputs": [],
   "source": [
    "import pandas as pd\n",
    "import numpy as np\n",
    "from sklearn.linear_model import LinearRegression\n",
    "linear_regression = LinearRegression()"
   ]
  },
  {
   "cell_type": "code",
   "execution_count": 2,
   "metadata": {
    "scrolled": true
   },
   "outputs": [
    {
     "name": "stderr",
     "output_type": "stream",
     "text": [
      "C:\\Users\\Jason\\Downloads\\Anaconda\\lib\\site-packages\\IPython\\core\\interactiveshell.py:3063: DtypeWarning: Columns (21) have mixed types.Specify dtype option on import or set low_memory=False.\n",
      "  interactivity=interactivity, compiler=compiler, result=result)\n"
     ]
    }
   ],
   "source": [
    "df = pd.read_csv('Registered_Libertarian_Voters_SD.csv')\n",
    "pd.set_option('display.max_columns', None)\n",
    "columns_to_drop = ['Walking_List_Sequence', 'LALVOTERID', 'LALVOTERID', 'Residence_Families_FamilyID', 'Mailing_Families_FamilyID', 'VoterTelephones_FullPhone', 'Telephones_Phone10', 'VoterTelephones_TelCellFlag', 'View_Ops_CellPhone_Phone10', 'View_Ops_CellPhone_FullPhone', 'Residence_Addresses_AddressLine', 'Residence_Addresses_ExtraAddressLine', 'Residence_Addresses_State', 'Residence_Addresses_Zip', 'Residence_Addresses_ZipPlus4', 'Mailing_Addresses_AddressLine', 'Mailing_Addresses_ExtraAddressLine', 'Mailing_Addresses_City', 'Mailing_Addresses_State', 'Mailing_Addresses_Zip', 'Mailing_Addresses_ZipPlus4', 'Voters_BirthDate']\n",
    "df.drop(columns = columns_to_drop, inplace = True)\n",
    "pd.set_option('display.max_columns', None)\n",
    "df.fillna(value = 0, inplace = True)\n",
    "df.replace(to_replace = 'Y', value = 1, inplace = True)\n",
    "df.rename(columns = {'General_2012-11-06': 'General_2012', 'General_2014-11-04': 'General_2014', 'General_2016-11-08': 'General_2016', 'General_2018-11-06': 'General_2018'}, inplace = True)\n"
   ]
  },
  {
   "cell_type": "code",
   "execution_count": 3,
   "metadata": {},
   "outputs": [
    {
     "data": {
      "text/html": [
       "<div>\n",
       "<style scoped>\n",
       "    .dataframe tbody tr th:only-of-type {\n",
       "        vertical-align: middle;\n",
       "    }\n",
       "\n",
       "    .dataframe tbody tr th {\n",
       "        vertical-align: top;\n",
       "    }\n",
       "\n",
       "    .dataframe thead th {\n",
       "        text-align: right;\n",
       "    }\n",
       "</style>\n",
       "<table border=\"1\" class=\"dataframe\">\n",
       "  <thead>\n",
       "    <tr style=\"text-align: right;\">\n",
       "      <th></th>\n",
       "      <th>Voters_StateVoterID</th>\n",
       "      <th>Voters_Active</th>\n",
       "      <th>Voters_FirstName</th>\n",
       "      <th>Voters_MiddleName</th>\n",
       "      <th>Voters_LastName</th>\n",
       "      <th>Residence_Addresses_City</th>\n",
       "      <th>Voters_CalculatedRegDate</th>\n",
       "      <th>Voters_Age</th>\n",
       "      <th>Parties_Description</th>\n",
       "      <th>Voters_Gender</th>\n",
       "      <th>EthnicGroups_EthnicGroup1Desc</th>\n",
       "      <th>2011_NEW_Congressional_District</th>\n",
       "      <th>2011_NEW_State_Senate_District</th>\n",
       "      <th>2011_NEW_State_House_District</th>\n",
       "      <th>County</th>\n",
       "      <th>Precinct</th>\n",
       "      <th>General_2012</th>\n",
       "      <th>General_2014</th>\n",
       "      <th>General_2016</th>\n",
       "      <th>General_2018</th>\n",
       "      <th>Presidential_Primary_2012-06-05</th>\n",
       "      <th>Presidential_Primary_2016-06-07</th>\n",
       "      <th>Presidential_Primary_2020-03-03</th>\n",
       "      <th>Primary_2012-06-05</th>\n",
       "      <th>Primary_2014-06-03</th>\n",
       "      <th>Primary_2016-06-07</th>\n",
       "      <th>Primary_2018-06-05</th>\n",
       "      <th>Primary_2020-03-03</th>\n",
       "      <th>email_addr</th>\n",
       "    </tr>\n",
       "  </thead>\n",
       "  <tbody>\n",
       "    <tr>\n",
       "      <th>0</th>\n",
       "      <td>6849349</td>\n",
       "      <td>Active</td>\n",
       "      <td>Stacy</td>\n",
       "      <td>M</td>\n",
       "      <td>Achenbach</td>\n",
       "      <td>Alpine</td>\n",
       "      <td>9/27/1995</td>\n",
       "      <td>57.0</td>\n",
       "      <td>Libertarian</td>\n",
       "      <td>F</td>\n",
       "      <td>European</td>\n",
       "      <td>50.0</td>\n",
       "      <td>38.0</td>\n",
       "      <td>71.0</td>\n",
       "      <td>SAN DIEGO</td>\n",
       "      <td>ALPINE 554100</td>\n",
       "      <td>1</td>\n",
       "      <td>0</td>\n",
       "      <td>1</td>\n",
       "      <td>1</td>\n",
       "      <td>0</td>\n",
       "      <td>0</td>\n",
       "      <td>0</td>\n",
       "      <td>0</td>\n",
       "      <td>0</td>\n",
       "      <td>0</td>\n",
       "      <td>0</td>\n",
       "      <td>0</td>\n",
       "      <td>0</td>\n",
       "    </tr>\n",
       "    <tr>\n",
       "      <th>1</th>\n",
       "      <td>6908005</td>\n",
       "      <td>Active</td>\n",
       "      <td>Michael</td>\n",
       "      <td>A</td>\n",
       "      <td>Aitken</td>\n",
       "      <td>Alpine</td>\n",
       "      <td>5/3/1998</td>\n",
       "      <td>53.0</td>\n",
       "      <td>Libertarian</td>\n",
       "      <td>M</td>\n",
       "      <td>European</td>\n",
       "      <td>50.0</td>\n",
       "      <td>38.0</td>\n",
       "      <td>71.0</td>\n",
       "      <td>SAN DIEGO</td>\n",
       "      <td>ALPINE 554840</td>\n",
       "      <td>1</td>\n",
       "      <td>0</td>\n",
       "      <td>1</td>\n",
       "      <td>1</td>\n",
       "      <td>1</td>\n",
       "      <td>1</td>\n",
       "      <td>1</td>\n",
       "      <td>1</td>\n",
       "      <td>0</td>\n",
       "      <td>1</td>\n",
       "      <td>0</td>\n",
       "      <td>1</td>\n",
       "      <td>mikeaitkensd@gmail.com</td>\n",
       "    </tr>\n",
       "    <tr>\n",
       "      <th>2</th>\n",
       "      <td>23365115</td>\n",
       "      <td>Inactive</td>\n",
       "      <td>Madalyn</td>\n",
       "      <td>0</td>\n",
       "      <td>Arevalo</td>\n",
       "      <td>Alpine</td>\n",
       "      <td>4/7/2015</td>\n",
       "      <td>24.0</td>\n",
       "      <td>Libertarian</td>\n",
       "      <td>F</td>\n",
       "      <td>Hispanic and Portuguese</td>\n",
       "      <td>50.0</td>\n",
       "      <td>38.0</td>\n",
       "      <td>71.0</td>\n",
       "      <td>SAN DIEGO</td>\n",
       "      <td>ALPINE 554300</td>\n",
       "      <td>0</td>\n",
       "      <td>0</td>\n",
       "      <td>0</td>\n",
       "      <td>0</td>\n",
       "      <td>0</td>\n",
       "      <td>0</td>\n",
       "      <td>0</td>\n",
       "      <td>0</td>\n",
       "      <td>0</td>\n",
       "      <td>0</td>\n",
       "      <td>0</td>\n",
       "      <td>0</td>\n",
       "      <td>arevalomadalyn@gmail.com</td>\n",
       "    </tr>\n",
       "    <tr>\n",
       "      <th>3</th>\n",
       "      <td>30570022</td>\n",
       "      <td>Inactive</td>\n",
       "      <td>Rosalie</td>\n",
       "      <td>0</td>\n",
       "      <td>Arevalo</td>\n",
       "      <td>Alpine</td>\n",
       "      <td>8/8/2016</td>\n",
       "      <td>22.0</td>\n",
       "      <td>Libertarian</td>\n",
       "      <td>F</td>\n",
       "      <td>Hispanic and Portuguese</td>\n",
       "      <td>50.0</td>\n",
       "      <td>38.0</td>\n",
       "      <td>71.0</td>\n",
       "      <td>SAN DIEGO</td>\n",
       "      <td>ALPINE 554300</td>\n",
       "      <td>0</td>\n",
       "      <td>0</td>\n",
       "      <td>1</td>\n",
       "      <td>0</td>\n",
       "      <td>0</td>\n",
       "      <td>0</td>\n",
       "      <td>0</td>\n",
       "      <td>0</td>\n",
       "      <td>0</td>\n",
       "      <td>0</td>\n",
       "      <td>0</td>\n",
       "      <td>0</td>\n",
       "      <td>rosaliearevalo98@gmail.com</td>\n",
       "    </tr>\n",
       "    <tr>\n",
       "      <th>4</th>\n",
       "      <td>30660866</td>\n",
       "      <td>Active</td>\n",
       "      <td>Franchesca</td>\n",
       "      <td>0</td>\n",
       "      <td>Barisano</td>\n",
       "      <td>Alpine</td>\n",
       "      <td>2/1/2018</td>\n",
       "      <td>38.0</td>\n",
       "      <td>Libertarian</td>\n",
       "      <td>F</td>\n",
       "      <td>European</td>\n",
       "      <td>50.0</td>\n",
       "      <td>38.0</td>\n",
       "      <td>71.0</td>\n",
       "      <td>SAN DIEGO</td>\n",
       "      <td>ALPINE 554600</td>\n",
       "      <td>0</td>\n",
       "      <td>0</td>\n",
       "      <td>0</td>\n",
       "      <td>0</td>\n",
       "      <td>0</td>\n",
       "      <td>0</td>\n",
       "      <td>0</td>\n",
       "      <td>0</td>\n",
       "      <td>0</td>\n",
       "      <td>0</td>\n",
       "      <td>0</td>\n",
       "      <td>0</td>\n",
       "      <td>franbarisano@gmail.com</td>\n",
       "    </tr>\n",
       "    <tr>\n",
       "      <th>...</th>\n",
       "      <td>...</td>\n",
       "      <td>...</td>\n",
       "      <td>...</td>\n",
       "      <td>...</td>\n",
       "      <td>...</td>\n",
       "      <td>...</td>\n",
       "      <td>...</td>\n",
       "      <td>...</td>\n",
       "      <td>...</td>\n",
       "      <td>...</td>\n",
       "      <td>...</td>\n",
       "      <td>...</td>\n",
       "      <td>...</td>\n",
       "      <td>...</td>\n",
       "      <td>...</td>\n",
       "      <td>...</td>\n",
       "      <td>...</td>\n",
       "      <td>...</td>\n",
       "      <td>...</td>\n",
       "      <td>...</td>\n",
       "      <td>...</td>\n",
       "      <td>...</td>\n",
       "      <td>...</td>\n",
       "      <td>...</td>\n",
       "      <td>...</td>\n",
       "      <td>...</td>\n",
       "      <td>...</td>\n",
       "      <td>...</td>\n",
       "      <td>...</td>\n",
       "    </tr>\n",
       "    <tr>\n",
       "      <th>17339</th>\n",
       "      <td>35989813</td>\n",
       "      <td>Active</td>\n",
       "      <td>Tristan</td>\n",
       "      <td>T</td>\n",
       "      <td>McMillin</td>\n",
       "      <td>San Clemente</td>\n",
       "      <td>12/18/2019</td>\n",
       "      <td>22.0</td>\n",
       "      <td>Libertarian</td>\n",
       "      <td>M</td>\n",
       "      <td>European</td>\n",
       "      <td>49.0</td>\n",
       "      <td>36.0</td>\n",
       "      <td>76.0</td>\n",
       "      <td>SAN DIEGO</td>\n",
       "      <td>CAMP PENDLETON 401530</td>\n",
       "      <td>0</td>\n",
       "      <td>0</td>\n",
       "      <td>0</td>\n",
       "      <td>0</td>\n",
       "      <td>0</td>\n",
       "      <td>0</td>\n",
       "      <td>0</td>\n",
       "      <td>0</td>\n",
       "      <td>0</td>\n",
       "      <td>0</td>\n",
       "      <td>0</td>\n",
       "      <td>0</td>\n",
       "      <td>0</td>\n",
       "    </tr>\n",
       "    <tr>\n",
       "      <th>17340</th>\n",
       "      <td>35722530</td>\n",
       "      <td>Active</td>\n",
       "      <td>Cory</td>\n",
       "      <td>J</td>\n",
       "      <td>Nagel</td>\n",
       "      <td>San Clemente</td>\n",
       "      <td>10/11/2019</td>\n",
       "      <td>23.0</td>\n",
       "      <td>Libertarian</td>\n",
       "      <td>M</td>\n",
       "      <td>European</td>\n",
       "      <td>49.0</td>\n",
       "      <td>36.0</td>\n",
       "      <td>76.0</td>\n",
       "      <td>SAN DIEGO</td>\n",
       "      <td>CAMP PENDLETON 401520</td>\n",
       "      <td>0</td>\n",
       "      <td>0</td>\n",
       "      <td>0</td>\n",
       "      <td>0</td>\n",
       "      <td>0</td>\n",
       "      <td>0</td>\n",
       "      <td>0</td>\n",
       "      <td>0</td>\n",
       "      <td>0</td>\n",
       "      <td>0</td>\n",
       "      <td>0</td>\n",
       "      <td>0</td>\n",
       "      <td>0</td>\n",
       "    </tr>\n",
       "    <tr>\n",
       "      <th>17341</th>\n",
       "      <td>34212683</td>\n",
       "      <td>Active</td>\n",
       "      <td>Juan</td>\n",
       "      <td>Antonio</td>\n",
       "      <td>Picazo</td>\n",
       "      <td>San Clemente</td>\n",
       "      <td>2/17/2020</td>\n",
       "      <td>37.0</td>\n",
       "      <td>Libertarian</td>\n",
       "      <td>M</td>\n",
       "      <td>Hispanic and Portuguese</td>\n",
       "      <td>49.0</td>\n",
       "      <td>36.0</td>\n",
       "      <td>76.0</td>\n",
       "      <td>SAN DIEGO</td>\n",
       "      <td>CAMP PENDLETON 401520</td>\n",
       "      <td>0</td>\n",
       "      <td>0</td>\n",
       "      <td>0</td>\n",
       "      <td>0</td>\n",
       "      <td>0</td>\n",
       "      <td>0</td>\n",
       "      <td>0</td>\n",
       "      <td>0</td>\n",
       "      <td>0</td>\n",
       "      <td>0</td>\n",
       "      <td>0</td>\n",
       "      <td>0</td>\n",
       "      <td>0</td>\n",
       "    </tr>\n",
       "    <tr>\n",
       "      <th>17342</th>\n",
       "      <td>34836193</td>\n",
       "      <td>Active</td>\n",
       "      <td>Michaela</td>\n",
       "      <td>L</td>\n",
       "      <td>Summers</td>\n",
       "      <td>San Clemente</td>\n",
       "      <td>10/7/2018</td>\n",
       "      <td>24.0</td>\n",
       "      <td>Libertarian</td>\n",
       "      <td>F</td>\n",
       "      <td>European</td>\n",
       "      <td>49.0</td>\n",
       "      <td>36.0</td>\n",
       "      <td>76.0</td>\n",
       "      <td>SAN DIEGO</td>\n",
       "      <td>CAMP PENDLETON 401530</td>\n",
       "      <td>0</td>\n",
       "      <td>0</td>\n",
       "      <td>0</td>\n",
       "      <td>1</td>\n",
       "      <td>0</td>\n",
       "      <td>0</td>\n",
       "      <td>0</td>\n",
       "      <td>0</td>\n",
       "      <td>0</td>\n",
       "      <td>0</td>\n",
       "      <td>0</td>\n",
       "      <td>0</td>\n",
       "      <td>0</td>\n",
       "    </tr>\n",
       "    <tr>\n",
       "      <th>17343</th>\n",
       "      <td>32924360</td>\n",
       "      <td>Active</td>\n",
       "      <td>Evin</td>\n",
       "      <td>R</td>\n",
       "      <td>Watson</td>\n",
       "      <td>San Clemente</td>\n",
       "      <td>3/16/2019</td>\n",
       "      <td>21.0</td>\n",
       "      <td>Libertarian</td>\n",
       "      <td>0</td>\n",
       "      <td>European</td>\n",
       "      <td>49.0</td>\n",
       "      <td>36.0</td>\n",
       "      <td>76.0</td>\n",
       "      <td>SAN DIEGO</td>\n",
       "      <td>CAMP PENDLETON 401530</td>\n",
       "      <td>0</td>\n",
       "      <td>0</td>\n",
       "      <td>0</td>\n",
       "      <td>0</td>\n",
       "      <td>0</td>\n",
       "      <td>0</td>\n",
       "      <td>0</td>\n",
       "      <td>0</td>\n",
       "      <td>0</td>\n",
       "      <td>0</td>\n",
       "      <td>0</td>\n",
       "      <td>0</td>\n",
       "      <td>0</td>\n",
       "    </tr>\n",
       "  </tbody>\n",
       "</table>\n",
       "<p>17344 rows × 29 columns</p>\n",
       "</div>"
      ],
      "text/plain": [
       "       Voters_StateVoterID Voters_Active Voters_FirstName Voters_MiddleName  \\\n",
       "0                  6849349        Active            Stacy                 M   \n",
       "1                  6908005        Active          Michael                 A   \n",
       "2                 23365115      Inactive          Madalyn                 0   \n",
       "3                 30570022      Inactive          Rosalie                 0   \n",
       "4                 30660866        Active       Franchesca                 0   \n",
       "...                    ...           ...              ...               ...   \n",
       "17339             35989813        Active          Tristan                 T   \n",
       "17340             35722530        Active             Cory                 J   \n",
       "17341             34212683        Active             Juan           Antonio   \n",
       "17342             34836193        Active         Michaela                 L   \n",
       "17343             32924360        Active             Evin                 R   \n",
       "\n",
       "      Voters_LastName Residence_Addresses_City Voters_CalculatedRegDate  \\\n",
       "0           Achenbach                   Alpine                9/27/1995   \n",
       "1              Aitken                   Alpine                 5/3/1998   \n",
       "2             Arevalo                   Alpine                 4/7/2015   \n",
       "3             Arevalo                   Alpine                 8/8/2016   \n",
       "4            Barisano                   Alpine                 2/1/2018   \n",
       "...               ...                      ...                      ...   \n",
       "17339        McMillin             San Clemente               12/18/2019   \n",
       "17340           Nagel             San Clemente               10/11/2019   \n",
       "17341          Picazo             San Clemente                2/17/2020   \n",
       "17342         Summers             San Clemente                10/7/2018   \n",
       "17343          Watson             San Clemente                3/16/2019   \n",
       "\n",
       "       Voters_Age Parties_Description Voters_Gender  \\\n",
       "0            57.0         Libertarian             F   \n",
       "1            53.0         Libertarian             M   \n",
       "2            24.0         Libertarian             F   \n",
       "3            22.0         Libertarian             F   \n",
       "4            38.0         Libertarian             F   \n",
       "...           ...                 ...           ...   \n",
       "17339        22.0         Libertarian             M   \n",
       "17340        23.0         Libertarian             M   \n",
       "17341        37.0         Libertarian             M   \n",
       "17342        24.0         Libertarian             F   \n",
       "17343        21.0         Libertarian             0   \n",
       "\n",
       "      EthnicGroups_EthnicGroup1Desc  2011_NEW_Congressional_District  \\\n",
       "0                          European                             50.0   \n",
       "1                          European                             50.0   \n",
       "2           Hispanic and Portuguese                             50.0   \n",
       "3           Hispanic and Portuguese                             50.0   \n",
       "4                          European                             50.0   \n",
       "...                             ...                              ...   \n",
       "17339                      European                             49.0   \n",
       "17340                      European                             49.0   \n",
       "17341       Hispanic and Portuguese                             49.0   \n",
       "17342                      European                             49.0   \n",
       "17343                      European                             49.0   \n",
       "\n",
       "       2011_NEW_State_Senate_District  2011_NEW_State_House_District  \\\n",
       "0                                38.0                           71.0   \n",
       "1                                38.0                           71.0   \n",
       "2                                38.0                           71.0   \n",
       "3                                38.0                           71.0   \n",
       "4                                38.0                           71.0   \n",
       "...                               ...                            ...   \n",
       "17339                            36.0                           76.0   \n",
       "17340                            36.0                           76.0   \n",
       "17341                            36.0                           76.0   \n",
       "17342                            36.0                           76.0   \n",
       "17343                            36.0                           76.0   \n",
       "\n",
       "          County               Precinct  General_2012  General_2014  \\\n",
       "0      SAN DIEGO          ALPINE 554100             1             0   \n",
       "1      SAN DIEGO          ALPINE 554840             1             0   \n",
       "2      SAN DIEGO          ALPINE 554300             0             0   \n",
       "3      SAN DIEGO          ALPINE 554300             0             0   \n",
       "4      SAN DIEGO          ALPINE 554600             0             0   \n",
       "...          ...                    ...           ...           ...   \n",
       "17339  SAN DIEGO  CAMP PENDLETON 401530             0             0   \n",
       "17340  SAN DIEGO  CAMP PENDLETON 401520             0             0   \n",
       "17341  SAN DIEGO  CAMP PENDLETON 401520             0             0   \n",
       "17342  SAN DIEGO  CAMP PENDLETON 401530             0             0   \n",
       "17343  SAN DIEGO  CAMP PENDLETON 401530             0             0   \n",
       "\n",
       "       General_2016  General_2018  Presidential_Primary_2012-06-05  \\\n",
       "0                 1             1                                0   \n",
       "1                 1             1                                1   \n",
       "2                 0             0                                0   \n",
       "3                 1             0                                0   \n",
       "4                 0             0                                0   \n",
       "...             ...           ...                              ...   \n",
       "17339             0             0                                0   \n",
       "17340             0             0                                0   \n",
       "17341             0             0                                0   \n",
       "17342             0             1                                0   \n",
       "17343             0             0                                0   \n",
       "\n",
       "       Presidential_Primary_2016-06-07  Presidential_Primary_2020-03-03  \\\n",
       "0                                    0                                0   \n",
       "1                                    1                                1   \n",
       "2                                    0                                0   \n",
       "3                                    0                                0   \n",
       "4                                    0                                0   \n",
       "...                                ...                              ...   \n",
       "17339                                0                                0   \n",
       "17340                                0                                0   \n",
       "17341                                0                                0   \n",
       "17342                                0                                0   \n",
       "17343                                0                                0   \n",
       "\n",
       "       Primary_2012-06-05  Primary_2014-06-03  Primary_2016-06-07  \\\n",
       "0                       0                   0                   0   \n",
       "1                       1                   0                   1   \n",
       "2                       0                   0                   0   \n",
       "3                       0                   0                   0   \n",
       "4                       0                   0                   0   \n",
       "...                   ...                 ...                 ...   \n",
       "17339                   0                   0                   0   \n",
       "17340                   0                   0                   0   \n",
       "17341                   0                   0                   0   \n",
       "17342                   0                   0                   0   \n",
       "17343                   0                   0                   0   \n",
       "\n",
       "       Primary_2018-06-05  Primary_2020-03-03                  email_addr  \n",
       "0                       0                   0                           0  \n",
       "1                       0                   1      mikeaitkensd@gmail.com  \n",
       "2                       0                   0    arevalomadalyn@gmail.com  \n",
       "3                       0                   0  rosaliearevalo98@gmail.com  \n",
       "4                       0                   0      franbarisano@gmail.com  \n",
       "...                   ...                 ...                         ...  \n",
       "17339                   0                   0                           0  \n",
       "17340                   0                   0                           0  \n",
       "17341                   0                   0                           0  \n",
       "17342                   0                   0                           0  \n",
       "17343                   0                   0                           0  \n",
       "\n",
       "[17344 rows x 29 columns]"
      ]
     },
     "execution_count": 3,
     "metadata": {},
     "output_type": "execute_result"
    }
   ],
   "source": [
    "#df['General_2018'] = df['General_2018'].replace([1], 4)\n",
    "#df['General_2016'] = df['General_2016'].replace([1], 3)\n",
    "#df['General_2014'] = df['General_2014'].replace([1], 2)\n",
    "df"
   ]
  },
  {
   "cell_type": "code",
   "execution_count": 4,
   "metadata": {},
   "outputs": [
    {
     "data": {
      "text/plain": [
       "0    13525\n",
       "1     3819\n",
       "Name: Primary_2016-06-07, dtype: int64"
      ]
     },
     "execution_count": 4,
     "metadata": {},
     "output_type": "execute_result"
    }
   ],
   "source": [
    "df['Primary_2016-06-07'].value_counts()"
   ]
  },
  {
   "cell_type": "code",
   "execution_count": 5,
   "metadata": {},
   "outputs": [
    {
     "data": {
      "text/plain": [
       "1    9645\n",
       "0    7699\n",
       "Name: General_2016, dtype: int64"
      ]
     },
     "execution_count": 5,
     "metadata": {},
     "output_type": "execute_result"
    }
   ],
   "source": [
    "df['General_2016'].value_counts()"
   ]
  },
  {
   "cell_type": "code",
   "execution_count": 6,
   "metadata": {},
   "outputs": [],
   "source": [
    "X = df[['General_2012', 'General_2014', 'Presidential_Primary_2012-06-05', 'Primary_2014-06-03', 'Presidential_Primary_2016-06-07']]"
   ]
  },
  {
   "cell_type": "code",
   "execution_count": 7,
   "metadata": {},
   "outputs": [],
   "source": [
    "y = df['General_2016']"
   ]
  },
  {
   "cell_type": "code",
   "execution_count": 8,
   "metadata": {},
   "outputs": [],
   "source": [
    "from sklearn.model_selection import train_test_split\n",
    "X_train, X_test, y_train, y_test = train_test_split(X, y, test_size=0.33, random_state=66)"
   ]
  },
  {
   "cell_type": "markdown",
   "metadata": {},
   "source": [
    "# Multiple Linear Regression Section"
   ]
  },
  {
   "cell_type": "code",
   "execution_count": 9,
   "metadata": {
    "scrolled": true
   },
   "outputs": [
    {
     "data": {
      "text/plain": [
       "array([0.78358007])"
      ]
     },
     "execution_count": 9,
     "metadata": {},
     "output_type": "execute_result"
    }
   ],
   "source": [
    "linear_regression.fit(X_train,y_train)\n",
    "y_pred = linear_regression.predict([[0, 1, 0, 1, 1,]])\n",
    "y_pred\n",
    "# needs to be better, I don't think this is very accurate. Perhpaps we should weight the voting instances based on the proportion of total 'Y's or '1's that are associated with it, or use another model."
   ]
  },
  {
   "cell_type": "markdown",
   "metadata": {},
   "source": [
    "# Random Forests Section"
   ]
  },
  {
   "cell_type": "code",
   "execution_count": 10,
   "metadata": {},
   "outputs": [],
   "source": [
    "from sklearn.ensemble import RandomForestClassifier\n",
    "from sklearn.datasets import make_classification\n",
    "from sklearn.model_selection import train_test_split"
   ]
  },
  {
   "cell_type": "markdown",
   "metadata": {},
   "source": [
    "# Split into Training and Testing Data"
   ]
  },
  {
   "cell_type": "code",
   "execution_count": 11,
   "metadata": {},
   "outputs": [],
   "source": [
    "X_train, X_test, y_train, y_test = train_test_split(X, y, test_size=0.33, random_state=66)"
   ]
  },
  {
   "cell_type": "markdown",
   "metadata": {},
   "source": [
    "# Setup Model"
   ]
  },
  {
   "cell_type": "code",
   "execution_count": 12,
   "metadata": {},
   "outputs": [
    {
     "name": "stderr",
     "output_type": "stream",
     "text": [
      "C:\\Users\\Jason\\Downloads\\Anaconda\\lib\\site-packages\\sklearn\\ensemble\\forest.py:245: FutureWarning: The default value of n_estimators will change from 10 in version 0.20 to 100 in 0.22.\n",
      "  \"10 in version 0.20 to 100 in 0.22.\", FutureWarning)\n"
     ]
    },
    {
     "data": {
      "text/plain": [
       "RandomForestClassifier(bootstrap=True, class_weight='balanced',\n",
       "                       criterion='gini', max_depth=2, max_features='auto',\n",
       "                       max_leaf_nodes=None, min_impurity_decrease=0.0,\n",
       "                       min_impurity_split=None, min_samples_leaf=1,\n",
       "                       min_samples_split=2, min_weight_fraction_leaf=0.0,\n",
       "                       n_estimators=10, n_jobs=None, oob_score=False,\n",
       "                       random_state=0, verbose=0, warm_start=False)"
      ]
     },
     "execution_count": 12,
     "metadata": {},
     "output_type": "execute_result"
    }
   ],
   "source": [
    "#X_test, y_test = make_classification(n_samples=17339, n_features=5,\n",
    "                        #n_informative=2, n_redundant=0,\n",
    "                        #random_state=0, shuffle=False)\n",
    "clf = RandomForestClassifier(max_depth=2, random_state=0, class_weight = \"balanced\")\n",
    "clf.fit(X_train, y_train)\n"
   ]
  },
  {
   "cell_type": "code",
   "execution_count": 13,
   "metadata": {},
   "outputs": [
    {
     "data": {
      "text/plain": [
       "array([[6, 6, 6, ..., 6, 6, 6],\n",
       "       [6, 3, 6, ..., 6, 6, 5],\n",
       "       [3, 2, 2, ..., 3, 5, 5],\n",
       "       ...,\n",
       "       [3, 2, 2, ..., 3, 5, 5],\n",
       "       [2, 3, 3, ..., 2, 3, 3],\n",
       "       [2, 2, 2, ..., 2, 2, 2]], dtype=int32)"
      ]
     },
     "execution_count": 13,
     "metadata": {},
     "output_type": "execute_result"
    }
   ],
   "source": [
    "clf.apply(X_train)"
   ]
  },
  {
   "cell_type": "code",
   "execution_count": 14,
   "metadata": {},
   "outputs": [
    {
     "data": {
      "text/plain": [
       "(<11620x70 sparse matrix of type '<class 'numpy.intc'>'\n",
       " \twith 348600 stored elements in Compressed Sparse Row format>,\n",
       " array([ 0,  7, 14, 21, 28, 35, 42, 49, 56, 63, 70], dtype=int32))"
      ]
     },
     "execution_count": 14,
     "metadata": {},
     "output_type": "execute_result"
    }
   ],
   "source": [
    "clf.decision_path(X_train)"
   ]
  },
  {
   "cell_type": "code",
   "execution_count": 15,
   "metadata": {},
   "outputs": [
    {
     "data": {
      "text/plain": [
       "RandomForestClassifier(bootstrap=True, class_weight='balanced',\n",
       "                       criterion='gini', max_depth=2, max_features='auto',\n",
       "                       max_leaf_nodes=None, min_impurity_decrease=0.0,\n",
       "                       min_impurity_split=None, min_samples_leaf=1,\n",
       "                       min_samples_split=2, min_weight_fraction_leaf=0.0,\n",
       "                       n_estimators=10, n_jobs=None, oob_score=False,\n",
       "                       random_state=0, verbose=0, warm_start=False)"
      ]
     },
     "execution_count": 15,
     "metadata": {},
     "output_type": "execute_result"
    }
   ],
   "source": [
    "clf.fit(X_train, y_train)"
   ]
  },
  {
   "cell_type": "markdown",
   "metadata": {},
   "source": [
    "# THIS IS THE RESULT"
   ]
  },
  {
   "cell_type": "code",
   "execution_count": 25,
   "metadata": {},
   "outputs": [
    {
     "data": {
      "text/plain": [
       "array([[0.11504577, 0.88495423]])"
      ]
     },
     "execution_count": 25,
     "metadata": {},
     "output_type": "execute_result"
    }
   ],
   "source": [
    "clf.predict_proba([[0,1,0,1,1]])"
   ]
  },
  {
   "cell_type": "markdown",
   "metadata": {},
   "source": [
    "# Importance of Features"
   ]
  },
  {
   "cell_type": "code",
   "execution_count": 17,
   "metadata": {},
   "outputs": [
    {
     "data": {
      "text/plain": [
       "array([0.30468545, 0.30676526, 0.06183981, 0.00940054, 0.31730893])"
      ]
     },
     "execution_count": 17,
     "metadata": {},
     "output_type": "execute_result"
    }
   ],
   "source": [
    "clf.feature_importances_"
   ]
  },
  {
   "cell_type": "markdown",
   "metadata": {},
   "source": [
    "# Evaluate Model"
   ]
  },
  {
   "cell_type": "code",
   "execution_count": 18,
   "metadata": {},
   "outputs": [],
   "source": [
    "from sklearn.model_selection import cross_val_score\n",
    "from sklearn.metrics import classification_report, confusion_matrix"
   ]
  },
  {
   "cell_type": "code",
   "execution_count": 19,
   "metadata": {},
   "outputs": [],
   "source": [
    "clf_cv_score = cross_val_score(clf, X, y, cv=10)"
   ]
  },
  {
   "cell_type": "code",
   "execution_count": 20,
   "metadata": {},
   "outputs": [],
   "source": [
    "#print(confusion_matrix(y_test, clf_predict))\n",
    "#print(classification_report(y_test, clf_predict))\n",
    "#print(clf_cv_score)\n",
    "#print(clf_cv_score.mean)"
   ]
  },
  {
   "cell_type": "code",
   "execution_count": 21,
   "metadata": {},
   "outputs": [
    {
     "data": {
      "text/plain": [
       "0.7574010327022376"
      ]
     },
     "execution_count": 21,
     "metadata": {},
     "output_type": "execute_result"
    }
   ],
   "source": [
    "clf.score(X_train, y_train)"
   ]
  },
  {
   "cell_type": "code",
   "execution_count": null,
   "metadata": {},
   "outputs": [],
   "source": []
  }
 ],
 "metadata": {
  "kernelspec": {
   "display_name": "Python 3",
   "language": "python",
   "name": "python3"
  },
  "language_info": {
   "codemirror_mode": {
    "name": "ipython",
    "version": 3
   },
   "file_extension": ".py",
   "mimetype": "text/x-python",
   "name": "python",
   "nbconvert_exporter": "python",
   "pygments_lexer": "ipython3",
   "version": "3.7.6"
  }
 },
 "nbformat": 4,
 "nbformat_minor": 4
}
